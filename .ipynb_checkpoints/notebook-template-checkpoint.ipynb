{
 "cells": [
  {
   "cell_type": "markdown",
   "id": "0d1cad0b-315f-42ea-93fc-b8f4e0b2fbab",
   "metadata": {},
   "source": [
    "<div style=\"\n",
    "    font-weight: bold; \n",
    "    font-size: 28px;\n",
    "    margin-bottom: 10px;\n",
    "    \">\n",
    "    [Notebook Title]\n",
    "</div>\n",
    "\n",
    "<div style=\"font-size:15px\">\n",
    "    \n",
    "**Name**: [Enter your name here] <br>\n",
    "**Email**: [Enter your email here]\n",
    "\n",
    "</div>\n",
    "\n",
    "<hr style=\"\n",
    "    border: none;\n",
    "    height: 2px;\n",
    "    background: black;\n",
    "    \"> "
   ]
  },
  {
   "cell_type": "code",
   "execution_count": null,
   "id": "764e900e-c732-460b-a1f0-3c50bb466ca1",
   "metadata": {},
   "outputs": [],
   "source": [
    "# If using dark mode, execute the following:\n",
    "# import matplotlib.pyplot as plt\n",
    "\n",
    "# plt.rcParams.update(\n",
    "#     {\n",
    "#         \"figure.facecolor\": \"#111111\",\n",
    "#         \"text.color\": \"white\",\n",
    "#         \"xtick.color\": \"white\",\n",
    "#         \"ytick.color\": \"white\",\n",
    "#         \"axes.labelcolor\": \"white\",\n",
    "#         \"axes.edgecolor\": \"white\",\n",
    "#         \"axes.facecolor\": \"#111111\",\n",
    "#     }\n",
    "# )\n",
    "\n",
    "# Reset changes:\n",
    "# plt.rcdefaults()"
   ]
  },
  {
   "cell_type": "markdown",
   "id": "ae728082-e4fd-48be-935b-7d8f9990dbff",
   "metadata": {},
   "source": [
    "<h2 style=\"font-weight: bold; font-size: 22px; margin-bottom: 10px;\">[Section Heading]</h2>\n",
    "\n",
    "<hr style=\"\n",
    "    border: none;\n",
    "    height: 1px;\n",
    "    background: black;\n",
    "    \"> "
   ]
  },
  {
   "cell_type": "markdown",
   "id": "98565512-40a5-4e98-b14e-0d7cb81a37f4",
   "metadata": {},
   "source": [
    "..."
   ]
  },
  {
   "cell_type": "markdown",
   "id": "d5a61099-b29f-4f33-bf0c-a5879db48b06",
   "metadata": {},
   "source": [
    "<h3 style=\"font-weight: bold; font-size: 18px; margin-bottom: 10px;\">[Mini Section Heading]</h3>"
   ]
  },
  {
   "cell_type": "markdown",
   "id": "8a104e3d-046f-4f35-8641-f436c3281790",
   "metadata": {},
   "source": [
    "<div style=\"font-size:15px\">\n",
    "Normal Text\n",
    "</div>"
   ]
  },
  {
   "cell_type": "markdown",
   "id": "f6ae7570-24cf-45be-be95-4f5641ae6fb7",
   "metadata": {},
   "source": [
    "<div style=\"font-size:15px\">\n",
    "<ul>\n",
    "    <li style=\"margin-bottom: 8px; font-weight: bold;\">...</li>\n",
    "    <p>\n",
    "        - ... <br> \n",
    "        - ...\n",
    "    </p>\n",
    "    <li style=\"margin-bottom: 8px; font-weight: bold;\">...</li>\n",
    "    <p>\n",
    "        - ... <br>\n",
    "        - ...\n",
    "    </p>\n",
    "</ul>\n",
    "</div>"
   ]
  },
  {
   "cell_type": "markdown",
   "id": "6cc91b5e-3354-411e-b9a3-632d55a90e5b",
   "metadata": {},
   "source": [
    "<div style=\"font-size:15px\">\n",
    "\n",
    "<table>\n",
    "    <tr>\n",
    "        <th>Column 1</th>\n",
    "        <th>Column 2</th>\n",
    "    </tr>\n",
    "    <tbody>\n",
    "        <tr>\n",
    "            <td>Row 1, Column 1</td>\n",
    "            <td>Row 1, Column 2</td>\n",
    "        </tr>\n",
    "        <tr>\n",
    "            <td>Row 2, Column 1</td>\n",
    "            <td>Row 2, Column 2</td>\n",
    "        </tr>      \n",
    "    </tbody>\n",
    "</table>\n",
    "    \n",
    "</div>"
   ]
  },
  {
   "cell_type": "markdown",
   "id": "9e5d18d4",
   "metadata": {},
   "source": [
    "<div style=\"font-size:15px\">\n",
    "\n",
    "<blockquote>\n",
    "...\n",
    "</blockquote>\n",
    "<figcaption>Source, <cite>Link</cite></figcaption>\n",
    "\n",
    "</div>"
   ]
  }
 ],
 "metadata": {
  "kernelspec": {
   "display_name": "Python 3 (ipykernel)",
   "language": "python",
   "name": "python3"
  },
  "language_info": {
   "codemirror_mode": {
    "name": "ipython",
    "version": 3
   },
   "file_extension": ".py",
   "mimetype": "text/x-python",
   "name": "python",
   "nbconvert_exporter": "python",
   "pygments_lexer": "ipython3",
   "version": "3.10.16"
  }
 },
 "nbformat": 4,
 "nbformat_minor": 5
}
